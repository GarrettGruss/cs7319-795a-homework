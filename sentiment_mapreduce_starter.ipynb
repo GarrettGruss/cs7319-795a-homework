{
 "cells": [
  {
   "cell_type": "markdown",
   "id": "d0846c04",
   "metadata": {},
   "source": [
    "# Sentiment Analysis (MapReduce-Style) — Starter Notebook\n",
    "This notebook is a **minimal template**. You will fill in the TODOs to:\n",
    "1) Define keyword sets\n",
    "2) Implement the `map_post` function (Map)\n",
    "3) Group by label (Shuffle/Group)\n",
    "4) Sum totals (Reduce)\n",
    "5) Print counts **and** a final verdict (Happier / Sadder / Tied)\n",
    "\n",
    "Use the provided dataset path or change it to your file.\n",
    "Keep the logic **very simple** (exact keyword matches, case-insensitive)."
   ]
  },
  {
   "cell_type": "markdown",
   "id": "89f75f6a",
   "metadata": {},
   "source": [
    "## 0) Dataset Path (edit if needed)"
   ]
  },
  {
   "cell_type": "code",
   "execution_count": 8,
   "id": "ce7d2344",
   "metadata": {},
   "outputs": [
    {
     "name": "stdout",
     "output_type": "stream",
     "text": [
      "Using dataset: data/sample_us_posts.txt\n"
     ]
    }
   ],
   "source": [
    "DATA_PATH = 'data/sample_us_posts.txt'  # TODO: change path if needed\n",
    "print('Using dataset:', DATA_PATH)"
   ]
  },
  {
   "cell_type": "markdown",
   "id": "6b0a2a71",
   "metadata": {},
   "source": [
    "## 1) Keywords\n",
    "Fill in positive and negative keyword sets."
   ]
  },
  {
   "cell_type": "code",
   "execution_count": 9,
   "id": "dc4a50d9",
   "metadata": {},
   "outputs": [
    {
     "name": "stdout",
     "output_type": "stream",
     "text": [
      "POS: {'excited', 'thrilled', 'happy', 'love'} \n",
      "NEG: {'sad', 'upset', 'angry', 'depressed'}\n"
     ]
    }
   ],
   "source": [
    "POS = {\"happy\", \"excited\", \"thrilled\", \"love\"}  # TODO: e.g., {'happy', 'excited'}\n",
    "NEG = {\"sad\", \"depressed\", \"angry\", \"upset\"}  # TODO: e.g., {'sad', 'depressed'}\n",
    "print('POS:', POS, '\\nNEG:', NEG)"
   ]
  },
  {
   "cell_type": "markdown",
   "id": "65014753",
   "metadata": {},
   "source": [
    "## 2) Map\n",
    "Implement a function that reads one line and returns a list with one pair: (label, 1)\n",
    "Rules:\n",
    "- Positive if contains ≥1 positive keyword and no negative\n",
    "- Negative if contains ≥1 negative and no positive\n",
    "- Mixed if contains both\n",
    "- Neutral otherwise\n",
    "\n",
    "Hints:\n",
    "- Use `line.lower()` and `split()` to get words for simplicity."
   ]
  },
  {
   "cell_type": "code",
   "execution_count": 10,
   "id": "86ade4ac",
   "metadata": {},
   "outputs": [
    {
     "name": "stdout",
     "output_type": "stream",
     "text": [
      "Testing map_post function:\n",
      "\"I am so happy today!\" -> ('Positive', 1)\n",
      "\"I feel sad and depressed.\" -> ('Negative', 1)\n",
      "\"I love this but I'm also upset.\" -> ('Mixed', 1)\n",
      "\"The weather is nice.\" -> ('Neutral', 1)\n"
     ]
    }
   ],
   "source": [
    "import re\n",
    "\n",
    "def map_post(line: str):\n",
    "    \"\"\"\n",
    "    Map function: tokenize and classify sentiment for a single post.\n",
    "    Returns a list with one tuple: (label, 1)\n",
    "    \"\"\"\n",
    "    # Tokenize using regex (letters and apostrophes only, case-insensitive)\n",
    "    words = re.findall(r\"[a-zA-Z']+\", line.lower())\n",
    "    word_set = set(words)\n",
    "    \n",
    "    # Check for keyword matches\n",
    "    has_positive = bool(word_set & POS)\n",
    "    has_negative = bool(word_set & NEG)\n",
    "    \n",
    "    # Apply classification rules\n",
    "    if has_positive and has_negative:\n",
    "        return [('Mixed', 1)]\n",
    "    elif has_positive:\n",
    "        return [('Positive', 1)]\n",
    "    elif has_negative:\n",
    "        return [('Negative', 1)]\n",
    "    else:\n",
    "        return [('Neutral', 1)]\n",
    "\n",
    "# Test the function\n",
    "test_cases = [\n",
    "    \"I am so happy today!\",\n",
    "    \"I feel sad and depressed.\",\n",
    "    \"I love this but I'm also upset.\",\n",
    "    \"The weather is nice.\"\n",
    "]\n",
    "\n",
    "print(\"Testing map_post function:\")\n",
    "for test in test_cases:\n",
    "    result = map_post(test)\n",
    "    print(f'\"{test}\" -> {result[0]}')"
   ]
  },
  {
   "cell_type": "markdown",
   "id": "2a02d74d",
   "metadata": {},
   "source": [
    "## 3) Driver: Map Over Lines (provided)\n",
    "We iterate through the file and collect `(label, 1)` pairs."
   ]
  },
  {
   "cell_type": "code",
   "execution_count": 11,
   "id": "d276d45c",
   "metadata": {},
   "outputs": [
    {
     "name": "stdout",
     "output_type": "stream",
     "text": [
      "First few mapped items: [('Positive', 1), ('Positive', 1), ('Negative', 1), ('Negative', 1), ('Positive', 1), ('Positive', 1), ('Neutral', 1), ('Mixed', 1), ('Positive', 1), ('Mixed', 1)]\n"
     ]
    }
   ],
   "source": [
    "mapped = []\n",
    "with open(DATA_PATH, 'r', encoding='utf-8') as f:\n",
    "    for line in f:\n",
    "        if line.strip():\n",
    "            pairs = map_post(line)\n",
    "            mapped.extend(pairs)\n",
    "print('First few mapped items:', mapped[:10])"
   ]
  },
  {
   "cell_type": "markdown",
   "id": "3e087ff6",
   "metadata": {},
   "source": [
    "## 4) Shuffle/Group\n",
    "Group values by label into a dictionary, e.g., {'Positive':[1,1,...], 'Negative':[1,...]}."
   ]
  },
  {
   "cell_type": "code",
   "execution_count": 12,
   "id": "52bc68a2",
   "metadata": {},
   "outputs": [
    {
     "name": "stdout",
     "output_type": "stream",
     "text": [
      "Grouped results:\n",
      "  Positive: 5 items (values: [1, 1, 1, 1, 1])\n",
      "  Negative: 2 items (values: [1, 1])\n",
      "  Neutral: 1 items (values: [1])\n",
      "  Mixed: 2 items (values: [1, 1])\n"
     ]
    }
   ],
   "source": [
    "groups = {}\n",
    "# Group mapped results by label (key)\n",
    "for (label, value) in mapped:\n",
    "    if label not in groups:\n",
    "        groups[label] = []\n",
    "    groups[label].append(value)\n",
    "\n",
    "print(\"Grouped results:\")\n",
    "for label, values in groups.items():\n",
    "    print(f\"  {label}: {len(values)} items (values: {values[:5]}{'...' if len(values) > 5 else ''})\")"
   ]
  },
  {
   "cell_type": "markdown",
   "id": "f261f866",
   "metadata": {},
   "source": [
    "## 5) Reduce\n",
    "Create totals by summing values for each label, e.g., {'Positive': 3, 'Negative': 2, ...}"
   ]
  },
  {
   "cell_type": "code",
   "execution_count": 13,
   "id": "0cc9b676",
   "metadata": {},
   "outputs": [
    {
     "name": "stdout",
     "output_type": "stream",
     "text": [
      "Reduced totals:\n",
      "  Positive: 5\n",
      "  Negative: 2\n",
      "  Neutral: 1\n",
      "  Mixed: 2\n"
     ]
    }
   ],
   "source": [
    "totals = {}\n",
    "# Reduce: sum all values for each label\n",
    "for label, values in groups.items():\n",
    "    totals[label] = sum(values)\n",
    "\n",
    "print(\"Reduced totals:\")\n",
    "for label, total in totals.items():\n",
    "    print(f\"  {label}: {total}\")"
   ]
  },
  {
   "cell_type": "markdown",
   "id": "9c1dc4ed",
   "metadata": {},
   "source": [
    "## 6) Print Counts and Verdict\n",
    "- Print totals for all labels\n",
    "- Compute and print a **verdict**: Happier / Sadder / Tied\n",
    "  based on Positive vs Negative counts."
   ]
  },
  {
   "cell_type": "code",
   "execution_count": 14,
   "id": "3676dffd",
   "metadata": {},
   "outputs": [
    {
     "name": "stdout",
     "output_type": "stream",
     "text": [
      "Positive=5 Negative=2 Mixed=2 Neutral=1\n",
      "Verdict: Happier\n",
      "\n",
      "Detailed breakdown:\n",
      "  Total posts processed: 10\n",
      "  Positive keywords used: {'excited', 'thrilled', 'happy', 'love'}\n",
      "  Negative keywords used: {'sad', 'upset', 'angry', 'depressed'}\n"
     ]
    }
   ],
   "source": [
    "# Print totals in required format\n",
    "positive = totals.get('Positive', 0)\n",
    "negative = totals.get('Negative', 0) \n",
    "mixed = totals.get('Mixed', 0)\n",
    "neutral = totals.get('Neutral', 0)\n",
    "\n",
    "print(f\"Positive={positive} Negative={negative} Mixed={mixed} Neutral={neutral}\")\n",
    "\n",
    "# Compute and print verdict\n",
    "if positive > negative:\n",
    "    verdict = \"Happier\"\n",
    "elif negative > positive:\n",
    "    verdict = \"Sadder\"\n",
    "else:\n",
    "    verdict = \"Tied\"\n",
    "\n",
    "print(f\"Verdict: {verdict}\")\n",
    "\n",
    "print(f\"\\nDetailed breakdown:\")\n",
    "print(f\"  Total posts processed: {sum(totals.values())}\")\n",
    "print(f\"  Positive keywords used: {POS}\")\n",
    "print(f\"  Negative keywords used: {NEG}\")"
   ]
  },
  {
   "cell_type": "markdown",
   "id": "b6e24fe0",
   "metadata": {},
   "source": [
    "## 7) Optional: Bar Chart (nice to have)\n",
    "If you know matplotlib, you can draw a simple bar chart."
   ]
  },
  {
   "cell_type": "code",
   "execution_count": 15,
   "id": "21256f55",
   "metadata": {},
   "outputs": [
    {
     "data": {
      "image/png": "[encoded data removed]",
      "text/plain": [
       "<Figure size 640x480 with 1 Axes>"
      ]
     },
     "metadata": {},
     "output_type": "display_data"
    }
   ],
   "source": [
    "# Optional\n",
    "try:\n",
    "    import matplotlib.pyplot as plt\n",
    "    labels = list(totals.keys())\n",
    "    values = [totals[k] for k in labels]\n",
    "    plt.figure()\n",
    "    plt.bar(labels, values)\n",
    "    plt.title('Sentiment counts')\n",
    "    plt.xlabel('Label')\n",
    "    plt.ylabel('Count')\n",
    "    plt.show()\n",
    "except Exception as e:\n",
    "    print('Chart skipped or totals not ready yet:', e)"
   ]
  }
 ],
 "metadata": {
  "kernelspec": {
   "display_name": "cs7319-795a-homework (3.12.3)",
   "language": "python",
   "name": "python3"
  },
  "language_info": {
   "codemirror_mode": {
    "name": "ipython",
    "version": 3
   },
   "file_extension": ".py",
   "mimetype": "text/x-python",
   "name": "python",
   "nbconvert_exporter": "python",
   "pygments_lexer": "ipython3",
   "version": "3.12.3"
  }
 },
 "nbformat": 4,
 "nbformat_minor": 5
}
