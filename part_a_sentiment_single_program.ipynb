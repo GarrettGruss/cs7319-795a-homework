{
 "cells": [
  {
   "cell_type": "markdown",
   "metadata": {},
   "source": [
    "# Part A: Single-Program Architecture Sentiment Analyzer\n",
    "\n",
    "This notebook implements sentiment analysis using a **single-program architecture**.\n",
    "The program reads a dataset, processes each line sequentially, classifies sentiment, and aggregates results.\n",
    "\n",
    "**Architectural characteristics:**\n",
    "- Simple, monolithic design\n",
    "- Sequential processing\n",
    "- Direct data flow\n",
    "- Single pass through data"
   ]
  },
  {
   "cell_type": "markdown",
   "metadata": {},
   "source": [
    "## 1) Configuration and Setup"
   ]
  },
  {
   "cell_type": "code",
   "execution_count": 1,
   "metadata": {},
   "outputs": [
    {
     "name": "stdout",
     "output_type": "stream",
     "text": [
      "Using dataset: data/sample_us_posts.txt\n",
      "Using keywords: data/keywords.csv\n"
     ]
    }
   ],
   "source": [
    "import csv\n",
    "import re\n",
    "from collections import defaultdict\n",
    "from typing import List, Set, Dict\n",
    "from enum import Enum\n",
    "import matplotlib.pyplot as plt\n",
    "from pydantic import BaseModel, ValidationError, field_validator\n",
    "\n",
    "# Dataset path\n",
    "DATA_PATH = 'data/sample_us_posts.txt'\n",
    "KEYWORDS_PATH = 'data/keywords.csv'\n",
    "\n",
    "print(f'Using dataset: {DATA_PATH}')\n",
    "print(f'Using keywords: {KEYWORDS_PATH}')"
   ]
  },
  {
   "cell_type": "markdown",
   "metadata": {},
   "source": [
    "## 2) Models and Keyword Loading"
   ]
  },
  {
   "cell_type": "code",
   "execution_count": 2,
   "metadata": {},
   "outputs": [
    {
     "name": "stdout",
     "output_type": "stream",
     "text": [
      "Positive keywords: {'excited', 'happy', 'love', 'thrilled'}\n",
      "Negative keywords: {'upset', 'angry', 'depressed', 'sad'}\n",
      "Keywords model type: <class '__main__.KeywordSet'>\n"
     ]
    }
   ],
   "source": [
    "# Define Pydantic models for type safety and validation\n",
    "class SentimentType(str, Enum):\n",
    "    \"\"\"Enumeration for sentiment types\"\"\"\n",
    "    POSITIVE = \"Positive\"\n",
    "    NEGATIVE = \"Negative\"\n",
    "    MIXED = \"Mixed\"\n",
    "    NEUTRAL = \"Neutral\"\n",
    "\n",
    "class KeywordSet(BaseModel):\n",
    "    \"\"\"Model for keyword sets with validation\"\"\"\n",
    "    positive: Set[str]\n",
    "    negative: Set[str]\n",
    "    \n",
    "    @field_validator('positive', 'negative', mode='after')\n",
    "    @classmethod\n",
    "    def validate_keywords(cls, v: Set[str]) -> Set[str]:\n",
    "        if not v:\n",
    "            raise ValueError(\"Keyword set cannot be empty\")\n",
    "        return {keyword.lower() for keyword in v}\n",
    "\n",
    "class Post(BaseModel):\n",
    "    \"\"\"Model for a social media post\"\"\"\n",
    "    text: str\n",
    "    tokens: List[str] = []\n",
    "    \n",
    "    @field_validator('text', mode='after')\n",
    "    @classmethod\n",
    "    def validate_text(cls, v: str) -> str:\n",
    "        if not v.strip():\n",
    "            raise ValueError(\"Post text cannot be empty\")\n",
    "        return v.strip()\n",
    "\n",
    "class SentimentResult(BaseModel):\n",
    "    \"\"\"Model for sentiment classification result\"\"\"\n",
    "    post: Post\n",
    "    sentiment: SentimentType\n",
    "    has_positive: bool\n",
    "    has_negative: bool\n",
    "    matched_positive: Set[str] = set()\n",
    "    matched_negative: Set[str] = set()\n",
    "\n",
    "class SentimentSummary(BaseModel):\n",
    "    \"\"\"Model for aggregated sentiment results\"\"\"\n",
    "    positive: int = 0\n",
    "    negative: int = 0\n",
    "    mixed: int = 0\n",
    "    neutral: int = 0\n",
    "    total_posts: int = 0\n",
    "    verdict: str = \"\"\n",
    "    \n",
    "    @field_validator('total_posts', mode='after')\n",
    "    @classmethod\n",
    "    def validate_total_posts(cls, v: int) -> int:\n",
    "        if v < 0:\n",
    "            raise ValueError(\"Total posts cannot be negative\")\n",
    "        return v\n",
    "    \n",
    "    def calculate_verdict(self) -> str:\n",
    "        \"\"\"Calculate and set the verdict based on positive vs negative counts\"\"\"\n",
    "        if self.positive > self.negative:\n",
    "            self.verdict = 'Happier'\n",
    "        elif self.negative > self.positive:\n",
    "            self.verdict = 'Sadder'\n",
    "        else:\n",
    "            self.verdict = 'Tied'\n",
    "        return self.verdict\n",
    "\n",
    "def load_keywords(keywords_path: str) -> KeywordSet:\n",
    "    \"\"\"Load positive and negative keywords from CSV file using Pydantic model.\"\"\"\n",
    "    positive_keywords = set()\n",
    "    negative_keywords = set()\n",
    "    \n",
    "    with open(keywords_path, 'r', encoding='utf-8') as f:\n",
    "        reader = csv.DictReader(f)\n",
    "        for row in reader:\n",
    "            keyword = row['keyword'].lower()\n",
    "            sentiment = row['sentiment'].lower()\n",
    "            \n",
    "            if sentiment == 'positive':\n",
    "                positive_keywords.add(keyword)\n",
    "            elif sentiment == 'negative':\n",
    "                negative_keywords.add(keyword)\n",
    "    \n",
    "    return KeywordSet(positive=positive_keywords, negative=negative_keywords)\n",
    "\n",
    "# Load keywords using Pydantic model\n",
    "try:\n",
    "    keywords = load_keywords(KEYWORDS_PATH)\n",
    "    print(f'Positive keywords: {keywords.positive}')\n",
    "    print(f'Negative keywords: {keywords.negative}')\n",
    "    print(f'Keywords model type: {type(keywords)}')\n",
    "except ValidationError as e:\n",
    "    print(f\"Validation error loading keywords: {e}\")\n",
    "except Exception as e:\n",
    "    print(f\"Error loading keywords: {e}\")"
   ]
  },
  {
   "cell_type": "markdown",
   "metadata": {},
   "source": [
    "## 3) Sentiment Classifier"
   ]
  },
  {
   "cell_type": "code",
   "execution_count": 3,
   "metadata": {},
   "outputs": [
    {
     "name": "stdout",
     "output_type": "stream",
     "text": [
      "Testing classifier with validation:\n",
      "  1. \"I am so happy today!\" -> Positive\n",
      "    Positive matches: {'happy'}\n",
      "\n",
      "  2. \"I feel sad and depressed.\" -> Negative\n",
      "    Negative matches: {'depressed', 'sad'}\n",
      "\n",
      "  3. \"I love this but I'm also upset.\" -> Mixed\n",
      "    Positive matches: {'love'}\n",
      "    Negative matches: {'upset'}\n",
      "\n",
      "  4. \"The weather is nice.\" -> Neutral\n",
      "\n",
      "Validation error in classify_sentiment: 1 validation error for Post\n",
      "text\n",
      "  Value error, Post text cannot be empty [type=value_error, input_value='', input_type=str]\n",
      "    For further information visit https://errors.pydantic.dev/2.11/v/value_error\n",
      "  5. \"\" -> Neutral\n",
      "\n",
      "Validation error in classify_sentiment: 1 validation error for Post\n",
      "text\n",
      "  Value error, Post text cannot be empty [type=value_error, input_value='   ', input_type=str]\n",
      "    For further information visit https://errors.pydantic.dev/2.11/v/value_error\n",
      "  6. \"   \" -> Neutral\n",
      "\n"
     ]
    }
   ],
   "source": [
    "def tokenize(text: str) -> List[str]:\n",
    "    \"\"\"Simple tokenization: letters and apostrophes only, case-insensitive.\"\"\"\n",
    "    words = re.findall(r\"[a-zA-Z']+\", text.lower())\n",
    "    return words\n",
    "\n",
    "def classify_sentiment(post_text: str, keywords: KeywordSet) -> SentimentResult:\n",
    "    \"\"\"Classify sentiment\"\"\"\n",
    "    try:\n",
    "        # Create Post object with validation\n",
    "        post = Post(text=post_text)\n",
    "        post.tokens = tokenize(post_text)\n",
    "        \n",
    "        # Convert tokens to set for efficient intersection\n",
    "        token_set = set(post.tokens)\n",
    "        \n",
    "        # Find keyword matches\n",
    "        matched_positive = token_set & keywords.positive\n",
    "        matched_negative = token_set & keywords.negative\n",
    "        \n",
    "        # Determine sentiment based on matches\n",
    "        has_positive = bool(matched_positive)\n",
    "        has_negative = bool(matched_negative)\n",
    "        \n",
    "        if has_positive and has_negative:\n",
    "            sentiment = SentimentType.MIXED\n",
    "        elif has_positive:\n",
    "            sentiment = SentimentType.POSITIVE\n",
    "        elif has_negative:\n",
    "            sentiment = SentimentType.NEGATIVE\n",
    "        else:\n",
    "            sentiment = SentimentType.NEUTRAL\n",
    "        \n",
    "        # Create and return SentimentResult object\n",
    "        return SentimentResult(\n",
    "            post=post,\n",
    "            sentiment=sentiment,\n",
    "            has_positive=has_positive,\n",
    "            has_negative=has_negative,\n",
    "            matched_positive=matched_positive,\n",
    "            matched_negative=matched_negative\n",
    "        )\n",
    "    \n",
    "    except ValidationError as e:\n",
    "        print(f\"Validation error in classify_sentiment: {e}\")\n",
    "        # Return neutral result for invalid posts\n",
    "        neutral_post = Post(text=\"[INVALID POST]\")\n",
    "        return SentimentResult(\n",
    "            post=neutral_post,\n",
    "            sentiment=SentimentType.NEUTRAL,\n",
    "            has_positive=False,\n",
    "            has_negative=False\n",
    "        )\n",
    "\n",
    "# Test the classifier\n",
    "test_cases = [\n",
    "    \"I am so happy today!\",\n",
    "    \"I feel sad and depressed.\",\n",
    "    \"I love this but I'm also upset.\",\n",
    "    \"The weather is nice.\",\n",
    "    \"\",  # Test empty string validation\n",
    "    \"   \"  # Test whitespace-only validation\n",
    "]\n",
    "\n",
    "print(\"Testing classifier with validation:\")\n",
    "for i, test in enumerate(test_cases):\n",
    "    try:\n",
    "        result = classify_sentiment(test, keywords)\n",
    "        print(f'  {i+1}. \"{test}\" -> {result.sentiment.value}')\n",
    "        if result.matched_positive:\n",
    "            print(f'    Positive matches: {result.matched_positive}')\n",
    "        if result.matched_negative:\n",
    "            print(f'    Negative matches: {result.matched_negative}')\n",
    "    except Exception as e:\n",
    "        print(f'  {i+1}. \"{test}\" -> Error: {e}')\n",
    "    print()"
   ]
  },
  {
   "cell_type": "markdown",
   "metadata": {},
   "source": [
    "## 4) Main Processing Function"
   ]
  },
  {
   "cell_type": "code",
   "execution_count": null,
   "metadata": {},
   "outputs": [
    {
     "name": "stdout",
     "output_type": "stream",
     "text": [
      "Processing data/sample_us_posts.txt...\n",
      "Completed processing 10 posts.\n",
      "Sample results (first 3 classifications):\n",
      "  1. \"I am so happy to be here in the United States!...\" -> Positive\n",
      "     Positive: {'happy'}\n",
      "  2. \"Feeling excited about the new semester in Dallas....\" -> Positive\n",
      "     Positive: {'excited'}\n",
      "  3. \"Today was rough. I feel sad and tired....\" -> Negative\n",
      "     Negative: {'sad'}\n",
      "\\Summary Object: positive=5 negative=2 mixed=2 neutral=1 total_posts=10 verdict='Happier'\n",
      "Results type: <class '__main__.SentimentSummary'>\n"
     ]
    }
   ],
   "source": [
    "def analyze_sentiment_file(file_path: str, keywords: KeywordSet) -> SentimentSummary:\n",
    "    \"\"\"Analyze sentiment file.\"\"\"\n",
    "    summary = SentimentSummary()\n",
    "    processed_results: List[SentimentResult] = []\n",
    "    \n",
    "    print(f\"Processing {file_path}...\")\n",
    "    \n",
    "    # Single pass through the data\n",
    "    with open(file_path, 'r', encoding='utf-8') as f:\n",
    "        for line_num, line in enumerate(f, 1):\n",
    "            line = line.strip()\n",
    "            if line:  # Skip empty lines\n",
    "                try:\n",
    "                    # Classify\n",
    "                    result = classify_sentiment(line, keywords)\n",
    "                    processed_results.append(result)\n",
    "                    \n",
    "                    # Update summary counts based on sentiment type\n",
    "                    if result.sentiment == SentimentType.POSITIVE:\n",
    "                        summary.positive += 1\n",
    "                    elif result.sentiment == SentimentType.NEGATIVE:\n",
    "                        summary.negative += 1\n",
    "                    elif result.sentiment == SentimentType.MIXED:\n",
    "                        summary.mixed += 1\n",
    "                    else:\n",
    "                        summary.neutral += 1\n",
    "                    \n",
    "                    summary.total_posts += 1\n",
    "                    \n",
    "                    # Progress indicator for large files\n",
    "                    if line_num % 1000 == 0:\n",
    "                        print(f\"  Processed {line_num} lines...\")\n",
    "                        \n",
    "                except Exception as e:\n",
    "                    print(f\"  Error processing line {line_num}: {e}\")\n",
    "                    continue\n",
    "    \n",
    "    # Calculate verdict\n",
    "    summary.calculate_verdict()\n",
    "    \n",
    "    print(f\"Completed processing {summary.total_posts} posts.\")\n",
    "    print(f\"Sample results (first 3 classifications):\")\n",
    "    for i, result in enumerate(processed_results[:3]):\n",
    "        print(f\"  {i+1}. \\\"{result.post.text[:50]}...\\\" -> {result.sentiment.value}\")\n",
    "        if result.matched_positive:\n",
    "            print(f\"     Positive: {result.matched_positive}\")\n",
    "        if result.matched_negative:\n",
    "            print(f\"     Negative: {result.matched_negative}\")\n",
    "    \n",
    "    return summary\n",
    "\n",
    "# Process the dataset using Pydantic models\n",
    "results = analyze_sentiment_file(DATA_PATH, keywords)\n",
    "print(f\"Summary Object: {results}\")"
   ]
  },
  {
   "cell_type": "markdown",
   "metadata": {},
   "source": [
    "## 5) Generate Output and Verdict Using Pydantic"
   ]
  },
  {
   "cell_type": "code",
   "execution_count": 5,
   "metadata": {},
   "outputs": [
    {
     "name": "stdout",
     "output_type": "stream",
     "text": [
      "\n",
      "==================================================\n",
      "FINAL RESULTS\n",
      "==================================================\n",
      "Positive=5 Negative=2 Mixed=2 Neutral=1\n",
      "Verdict: Happier\n",
      "\n",
      "Model Details:\n",
      "  Total Posts: 10\n",
      "  Model JSON: {\"positive\":5,\"negative\":2,\"mixed\":2,\"neutral\":1,\"total_posts\":10,\"verdict\":\"Happier\"}\n"
     ]
    }
   ],
   "source": [
    "def print_results(summary: SentimentSummary) -> str:\n",
    "    \"\"\"Print results in the required format using Pydantic model.\"\"\"\n",
    "    # Required output format\n",
    "    print(f\"Positive={summary.positive} Negative={summary.negative} Mixed={summary.mixed} Neutral={summary.neutral}\")\n",
    "    print(f\"Verdict: {summary.verdict}\")\n",
    "    \n",
    "    # Additional Pydantic model information\n",
    "    print(f\"\\nModel Details:\")\n",
    "    print(f\"  Total Posts: {summary.total_posts}\")\n",
    "    print(f\"  Model JSON: {summary.model_dump_json()}\")\n",
    "    \n",
    "    return summary.verdict\n",
    "\n",
    "# Generate and print results using Pydantic model\n",
    "print(\"\\n\" + \"=\"*50)\n",
    "print(\"FINAL RESULTS\")\n",
    "print(\"=\"*50)\n",
    "verdict = print_results(results)"
   ]
  },
  {
   "cell_type": "markdown",
   "metadata": {},
   "source": [
    "## 6) Visualization"
   ]
  },
  {
   "cell_type": "code",
   "execution_count": 6,
   "metadata": {},
   "outputs": [
    {
     "data": {
      "image/png": "[encoded data removed]",
      "text/plain": [
       "<Figure size 1000x600 with 1 Axes>"
      ]
     },
     "metadata": {},
     "output_type": "display_data"
    }
   ],
   "source": [
    "def create_bar_chart(summary: SentimentSummary, title: str = \"Sentiment Analysis Results\"):\n",
    "    \"\"\"Create a bar chart\"\"\"\n",
    "    labels = ['Positive', 'Negative', 'Mixed', 'Neutral']\n",
    "    values = [summary.positive, summary.negative, summary.mixed, summary.neutral]\n",
    "    colors = ['green', 'red', 'orange', 'gray']\n",
    "    \n",
    "    plt.figure(figsize=(10, 6))\n",
    "    bars = plt.bar(labels, values, color=colors, alpha=0.7)\n",
    "    \n",
    "    # Add value labels on bars\n",
    "    for bar, value in zip(bars, values):\n",
    "        if value > 0:\n",
    "            plt.text(bar.get_x() + bar.get_width()/2, bar.get_height() + 0.5,\n",
    "                    str(value), ha='center', va='bottom', fontweight='bold')\n",
    "    \n",
    "    plt.title(f\"{title}\", fontsize=14, fontweight='bold')\n",
    "    plt.xlabel('Sentiment Category', fontweight='bold')\n",
    "    plt.ylabel('Number of Posts', fontweight='bold')\n",
    "    plt.grid(axis='y', alpha=0.3)\n",
    "    \n",
    "    # Add summary information using Pydantic model\n",
    "    info_text = f'Total Posts: {summary.total_posts}\\\\nVerdict: {summary.verdict}'\n",
    "    plt.text(0.02, 0.95, info_text, transform=plt.gca().transAxes,\n",
    "             bbox=dict(boxstyle='round', facecolor='lightblue', alpha=0.5))\n",
    "    \n",
    "    plt.tight_layout()\n",
    "    plt.show()\n",
    "\n",
    "# Create visualization using Pydantic model data\n",
    "create_bar_chart(results, f\"Sentiment Analysis - {DATA_PATH} (Single-Program Architecture)\")"
   ]
  },
  {
   "cell_type": "markdown",
   "metadata": {},
   "source": [
    "## 7) Test with Different Datasets"
   ]
  },
  {
   "cell_type": "code",
   "execution_count": 7,
   "metadata": {},
   "outputs": [
    {
     "name": "stdout",
     "output_type": "stream",
     "text": [
      "\n",
      "==================================================\n",
      "TESTING WITH: data/sample_us_posts_mixed.txt\n",
      "==================================================\n",
      "Processing data/sample_us_posts_mixed.txt...\n",
      "Completed processing 15 posts.\n",
      "Sample results (first 3 classifications):\n",
      "  1. \"So happy about the new job, but a bit sad to leave...\" -> Mixed\n",
      "     Positive: {'happy'}\n",
      "     Negative: {'sad'}\n",
      "  2. \"Excited for the concert tonight!...\" -> Positive\n",
      "     Positive: {'excited'}\n",
      "  3. \"Feeling depressed after the storm damage in our ne...\" -> Negative\n",
      "     Negative: {'depressed'}\n",
      "Positive=7 Negative=4 Mixed=2 Neutral=2\n",
      "Verdict: Happier\n",
      "\n",
      "Model Details:\n",
      "  Total Posts: 15\n",
      "  Model JSON: {\"positive\":7,\"negative\":4,\"mixed\":2,\"neutral\":2,\"total_posts\":15,\"verdict\":\"Happier\"}\n"
     ]
    },
    {
     "data": {
      "image/png": "[encoded data removed]",
      "text/plain": [
       "<Figure size 1000x600 with 1 Axes>"
      ]
     },
     "metadata": {},
     "output_type": "display_data"
    },
    {
     "name": "stdout",
     "output_type": "stream",
     "text": [
      "\n",
      "Comparison between datasets:\n",
      "Original dataset verdict: Happier\n",
      "Mixed dataset verdict: Happier\n"
     ]
    }
   ],
   "source": [
    "MIXED_DATA_PATH = 'data/sample_us_posts_mixed.txt'\n",
    "\n",
    "try:\n",
    "    print(\"\\n\" + \"=\"*50)\n",
    "    print(f\"TESTING WITH: {MIXED_DATA_PATH}\")\n",
    "    print(\"=\"*50)\n",
    "    \n",
    "    mixed_results = analyze_sentiment_file(MIXED_DATA_PATH, keywords)\n",
    "    mixed_verdict = print_results(mixed_results)\n",
    "    \n",
    "    # Create chart for mixed dataset using Pydantic model\n",
    "    create_bar_chart(mixed_results, f\"Sentiment Analysis - {MIXED_DATA_PATH} (Single-Program Architecture)\")\n",
    "    \n",
    "    # Compare results using Pydantic model capabilities\n",
    "    print(f\"\\nComparison between datasets:\")\n",
    "    print(f\"Original dataset verdict: {results.verdict}\")\n",
    "    print(f\"Mixed dataset verdict: {mixed_results.verdict}\")\n",
    "    \n",
    "except FileNotFoundError:\n",
    "    print(f\"Mixed dataset {MIXED_DATA_PATH} not found. Skipping...\")"
   ]
  }
 ],
 "metadata": {
  "kernelspec": {
   "display_name": "cs7319-795a-homework (3.12.3)",
   "language": "python",
   "name": "python3"
  },
  "language_info": {
   "codemirror_mode": {
    "name": "ipython",
    "version": 3
   },
   "file_extension": ".py",
   "mimetype": "text/x-python",
   "name": "python",
   "nbconvert_exporter": "python",
   "pygments_lexer": "ipython3",
   "version": "3.12.3"
  }
 },
 "nbformat": 4,
 "nbformat_minor": 4
}
